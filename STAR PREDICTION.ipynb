{
  "nbformat": 4,
  "nbformat_minor": 0,
  "metadata": {
    "colab": {
      "provenance": []
    },
    "kernelspec": {
      "name": "python3",
      "display_name": "Python 3"
    },
    "language_info": {
      "name": "python"
    }
  },
  "cells": [
    {
      "cell_type": "code",
      "execution_count": null,
      "metadata": {
        "colab": {
          "base_uri": "https://localhost:8080/",
          "height": 423
        },
        "id": "YklpWYHNZSGd",
        "outputId": "8e2fbfa2-16ad-4902-a2cf-45732627edad"
      },
      "outputs": [
        {
          "output_type": "execute_result",
          "data": {
            "text/plain": [
              "     Temperature (K)  Luminosity(L/Lo)  Radius(R/Ro)  Absolute magnitude(Mv)  \\\n",
              "0               3068          0.002400        0.1700                   16.12   \n",
              "1               3042          0.000500        0.1542                   16.60   \n",
              "2               2600          0.000300        0.1020                   18.70   \n",
              "3               2800          0.000200        0.1600                   16.65   \n",
              "4               1939          0.000138        0.1030                   20.06   \n",
              "..               ...               ...           ...                     ...   \n",
              "235            38940     374830.000000     1356.0000                   -9.93   \n",
              "236            30839     834042.000000     1194.0000                  -10.63   \n",
              "237             8829     537493.000000     1423.0000                  -10.73   \n",
              "238             9235     404940.000000     1112.0000                  -11.23   \n",
              "239            37882     294903.000000     1783.0000                   -7.80   \n",
              "\n",
              "     Star type Star color Spectral Class  \n",
              "0            0        Red              M  \n",
              "1            0        Red              M  \n",
              "2            0        Red              M  \n",
              "3            0        Red              M  \n",
              "4            0        Red              M  \n",
              "..         ...        ...            ...  \n",
              "235          5       Blue              O  \n",
              "236          5       Blue              O  \n",
              "237          5      White              A  \n",
              "238          5      White              A  \n",
              "239          5       Blue              O  \n",
              "\n",
              "[240 rows x 7 columns]"
            ],
            "text/html": [
              "\n",
              "  <div id=\"df-7ccbc9a8-8ee0-4714-951d-96bc3c91dfb0\">\n",
              "    <div class=\"colab-df-container\">\n",
              "      <div>\n",
              "<style scoped>\n",
              "    .dataframe tbody tr th:only-of-type {\n",
              "        vertical-align: middle;\n",
              "    }\n",
              "\n",
              "    .dataframe tbody tr th {\n",
              "        vertical-align: top;\n",
              "    }\n",
              "\n",
              "    .dataframe thead th {\n",
              "        text-align: right;\n",
              "    }\n",
              "</style>\n",
              "<table border=\"1\" class=\"dataframe\">\n",
              "  <thead>\n",
              "    <tr style=\"text-align: right;\">\n",
              "      <th></th>\n",
              "      <th>Temperature (K)</th>\n",
              "      <th>Luminosity(L/Lo)</th>\n",
              "      <th>Radius(R/Ro)</th>\n",
              "      <th>Absolute magnitude(Mv)</th>\n",
              "      <th>Star type</th>\n",
              "      <th>Star color</th>\n",
              "      <th>Spectral Class</th>\n",
              "    </tr>\n",
              "  </thead>\n",
              "  <tbody>\n",
              "    <tr>\n",
              "      <th>0</th>\n",
              "      <td>3068</td>\n",
              "      <td>0.002400</td>\n",
              "      <td>0.1700</td>\n",
              "      <td>16.12</td>\n",
              "      <td>0</td>\n",
              "      <td>Red</td>\n",
              "      <td>M</td>\n",
              "    </tr>\n",
              "    <tr>\n",
              "      <th>1</th>\n",
              "      <td>3042</td>\n",
              "      <td>0.000500</td>\n",
              "      <td>0.1542</td>\n",
              "      <td>16.60</td>\n",
              "      <td>0</td>\n",
              "      <td>Red</td>\n",
              "      <td>M</td>\n",
              "    </tr>\n",
              "    <tr>\n",
              "      <th>2</th>\n",
              "      <td>2600</td>\n",
              "      <td>0.000300</td>\n",
              "      <td>0.1020</td>\n",
              "      <td>18.70</td>\n",
              "      <td>0</td>\n",
              "      <td>Red</td>\n",
              "      <td>M</td>\n",
              "    </tr>\n",
              "    <tr>\n",
              "      <th>3</th>\n",
              "      <td>2800</td>\n",
              "      <td>0.000200</td>\n",
              "      <td>0.1600</td>\n",
              "      <td>16.65</td>\n",
              "      <td>0</td>\n",
              "      <td>Red</td>\n",
              "      <td>M</td>\n",
              "    </tr>\n",
              "    <tr>\n",
              "      <th>4</th>\n",
              "      <td>1939</td>\n",
              "      <td>0.000138</td>\n",
              "      <td>0.1030</td>\n",
              "      <td>20.06</td>\n",
              "      <td>0</td>\n",
              "      <td>Red</td>\n",
              "      <td>M</td>\n",
              "    </tr>\n",
              "    <tr>\n",
              "      <th>...</th>\n",
              "      <td>...</td>\n",
              "      <td>...</td>\n",
              "      <td>...</td>\n",
              "      <td>...</td>\n",
              "      <td>...</td>\n",
              "      <td>...</td>\n",
              "      <td>...</td>\n",
              "    </tr>\n",
              "    <tr>\n",
              "      <th>235</th>\n",
              "      <td>38940</td>\n",
              "      <td>374830.000000</td>\n",
              "      <td>1356.0000</td>\n",
              "      <td>-9.93</td>\n",
              "      <td>5</td>\n",
              "      <td>Blue</td>\n",
              "      <td>O</td>\n",
              "    </tr>\n",
              "    <tr>\n",
              "      <th>236</th>\n",
              "      <td>30839</td>\n",
              "      <td>834042.000000</td>\n",
              "      <td>1194.0000</td>\n",
              "      <td>-10.63</td>\n",
              "      <td>5</td>\n",
              "      <td>Blue</td>\n",
              "      <td>O</td>\n",
              "    </tr>\n",
              "    <tr>\n",
              "      <th>237</th>\n",
              "      <td>8829</td>\n",
              "      <td>537493.000000</td>\n",
              "      <td>1423.0000</td>\n",
              "      <td>-10.73</td>\n",
              "      <td>5</td>\n",
              "      <td>White</td>\n",
              "      <td>A</td>\n",
              "    </tr>\n",
              "    <tr>\n",
              "      <th>238</th>\n",
              "      <td>9235</td>\n",
              "      <td>404940.000000</td>\n",
              "      <td>1112.0000</td>\n",
              "      <td>-11.23</td>\n",
              "      <td>5</td>\n",
              "      <td>White</td>\n",
              "      <td>A</td>\n",
              "    </tr>\n",
              "    <tr>\n",
              "      <th>239</th>\n",
              "      <td>37882</td>\n",
              "      <td>294903.000000</td>\n",
              "      <td>1783.0000</td>\n",
              "      <td>-7.80</td>\n",
              "      <td>5</td>\n",
              "      <td>Blue</td>\n",
              "      <td>O</td>\n",
              "    </tr>\n",
              "  </tbody>\n",
              "</table>\n",
              "<p>240 rows × 7 columns</p>\n",
              "</div>\n",
              "      <button class=\"colab-df-convert\" onclick=\"convertToInteractive('df-7ccbc9a8-8ee0-4714-951d-96bc3c91dfb0')\"\n",
              "              title=\"Convert this dataframe to an interactive table.\"\n",
              "              style=\"display:none;\">\n",
              "        \n",
              "  <svg xmlns=\"http://www.w3.org/2000/svg\" height=\"24px\"viewBox=\"0 0 24 24\"\n",
              "       width=\"24px\">\n",
              "    <path d=\"M0 0h24v24H0V0z\" fill=\"none\"/>\n",
              "    <path d=\"M18.56 5.44l.94 2.06.94-2.06 2.06-.94-2.06-.94-.94-2.06-.94 2.06-2.06.94zm-11 1L8.5 8.5l.94-2.06 2.06-.94-2.06-.94L8.5 2.5l-.94 2.06-2.06.94zm10 10l.94 2.06.94-2.06 2.06-.94-2.06-.94-.94-2.06-.94 2.06-2.06.94z\"/><path d=\"M17.41 7.96l-1.37-1.37c-.4-.4-.92-.59-1.43-.59-.52 0-1.04.2-1.43.59L10.3 9.45l-7.72 7.72c-.78.78-.78 2.05 0 2.83L4 21.41c.39.39.9.59 1.41.59.51 0 1.02-.2 1.41-.59l7.78-7.78 2.81-2.81c.8-.78.8-2.07 0-2.86zM5.41 20L4 18.59l7.72-7.72 1.47 1.35L5.41 20z\"/>\n",
              "  </svg>\n",
              "      </button>\n",
              "      \n",
              "  <style>\n",
              "    .colab-df-container {\n",
              "      display:flex;\n",
              "      flex-wrap:wrap;\n",
              "      gap: 12px;\n",
              "    }\n",
              "\n",
              "    .colab-df-convert {\n",
              "      background-color: #E8F0FE;\n",
              "      border: none;\n",
              "      border-radius: 50%;\n",
              "      cursor: pointer;\n",
              "      display: none;\n",
              "      fill: #1967D2;\n",
              "      height: 32px;\n",
              "      padding: 0 0 0 0;\n",
              "      width: 32px;\n",
              "    }\n",
              "\n",
              "    .colab-df-convert:hover {\n",
              "      background-color: #E2EBFA;\n",
              "      box-shadow: 0px 1px 2px rgba(60, 64, 67, 0.3), 0px 1px 3px 1px rgba(60, 64, 67, 0.15);\n",
              "      fill: #174EA6;\n",
              "    }\n",
              "\n",
              "    [theme=dark] .colab-df-convert {\n",
              "      background-color: #3B4455;\n",
              "      fill: #D2E3FC;\n",
              "    }\n",
              "\n",
              "    [theme=dark] .colab-df-convert:hover {\n",
              "      background-color: #434B5C;\n",
              "      box-shadow: 0px 1px 3px 1px rgba(0, 0, 0, 0.15);\n",
              "      filter: drop-shadow(0px 1px 2px rgba(0, 0, 0, 0.3));\n",
              "      fill: #FFFFFF;\n",
              "    }\n",
              "  </style>\n",
              "\n",
              "      <script>\n",
              "        const buttonEl =\n",
              "          document.querySelector('#df-7ccbc9a8-8ee0-4714-951d-96bc3c91dfb0 button.colab-df-convert');\n",
              "        buttonEl.style.display =\n",
              "          google.colab.kernel.accessAllowed ? 'block' : 'none';\n",
              "\n",
              "        async function convertToInteractive(key) {\n",
              "          const element = document.querySelector('#df-7ccbc9a8-8ee0-4714-951d-96bc3c91dfb0');\n",
              "          const dataTable =\n",
              "            await google.colab.kernel.invokeFunction('convertToInteractive',\n",
              "                                                     [key], {});\n",
              "          if (!dataTable) return;\n",
              "\n",
              "          const docLinkHtml = 'Like what you see? Visit the ' +\n",
              "            '<a target=\"_blank\" href=https://colab.research.google.com/notebooks/data_table.ipynb>data table notebook</a>'\n",
              "            + ' to learn more about interactive tables.';\n",
              "          element.innerHTML = '';\n",
              "          dataTable['output_type'] = 'display_data';\n",
              "          await google.colab.output.renderOutput(dataTable, element);\n",
              "          const docLink = document.createElement('div');\n",
              "          docLink.innerHTML = docLinkHtml;\n",
              "          element.appendChild(docLink);\n",
              "        }\n",
              "      </script>\n",
              "    </div>\n",
              "  </div>\n",
              "  "
            ]
          },
          "metadata": {},
          "execution_count": 153
        }
      ],
      "source": [
        "# STAR TYPE DATASET\n",
        "# 1. CREATING DATA FRAME\n",
        "import pandas as pd\n",
        "import numpy as np\n",
        "star = pd.read_csv('star type.csv')\n",
        "star"
      ]
    },
    {
      "cell_type": "code",
      "source": [
        "star.info()"
      ],
      "metadata": {
        "colab": {
          "base_uri": "https://localhost:8080/"
        },
        "id": "jB_JeFBRaVK8",
        "outputId": "d50ebdc6-783c-4c70-ee07-269d6c6ff4c2"
      },
      "execution_count": null,
      "outputs": [
        {
          "output_type": "stream",
          "name": "stdout",
          "text": [
            "<class 'pandas.core.frame.DataFrame'>\n",
            "RangeIndex: 240 entries, 0 to 239\n",
            "Data columns (total 7 columns):\n",
            " #   Column                  Non-Null Count  Dtype  \n",
            "---  ------                  --------------  -----  \n",
            " 0   Temperature (K)         240 non-null    int64  \n",
            " 1   Luminosity(L/Lo)        240 non-null    float64\n",
            " 2   Radius(R/Ro)            240 non-null    float64\n",
            " 3   Absolute magnitude(Mv)  240 non-null    float64\n",
            " 4   Star type               240 non-null    int64  \n",
            " 5   Star color              240 non-null    object \n",
            " 6   Spectral Class          240 non-null    object \n",
            "dtypes: float64(3), int64(2), object(2)\n",
            "memory usage: 13.2+ KB\n"
          ]
        }
      ]
    },
    {
      "cell_type": "code",
      "source": [
        "#2 CLEANING DATA \n",
        "# WILL CONVERT ALL STRING/OBJECT TO INT TYPE\n",
        "star['Star color'].unique()"
      ],
      "metadata": {
        "colab": {
          "base_uri": "https://localhost:8080/"
        },
        "id": "rOX8e8EAnYHl",
        "outputId": "9e408d03-dd45-441a-f4b6-cd2bc93a1c1f"
      },
      "execution_count": null,
      "outputs": [
        {
          "output_type": "execute_result",
          "data": {
            "text/plain": [
              "array(['Red', 'Blue White', 'White', 'Yellowish White', 'Blue white',\n",
              "       'Pale yellow orange', 'Blue', 'Blue-white', 'Whitish',\n",
              "       'yellow-white', 'Orange', 'White-Yellow', 'white', 'Blue ',\n",
              "       'yellowish', 'Yellowish', 'Orange-Red', 'Blue white ',\n",
              "       'Blue-White'], dtype=object)"
            ]
          },
          "metadata": {},
          "execution_count": 155
        }
      ]
    },
    {
      "cell_type": "code",
      "source": [
        "# CLEANING COLUMN STAR COLOR\n",
        "# ENCODING COLORS WITH INTEGERS USING REPLACE FUNCTION , AND MANAGING RUBBISH VALUES\n",
        "star['Star color'] = star['Star color'].str.replace('Red','1')\n",
        "star['Star color'] = star['Star color'].str.replace('Blue White','2')\n",
        "star['Star color'] = star['Star color'].str.replace('Blue-white','2')\n",
        "star['Star color'] = star['Star color'].str.replace('Blue white','2')\n",
        "star['Star color'] = star['Star color'].str.replace('Blue-White','2')\n",
        "star['Star color'] = star['Star color'].str.replace('white','3')\n",
        "star['Star color'] = star['Star color'].str.replace('White','3')\n",
        "star['Star color'] = star['Star color'].str.replace('Whitish','4')\n",
        "star['Star color'] = star['Star color'].str.replace('Yellowish White','5')\n",
        "star['Star color'] = star['Star color'].str.replace('yellow-white','5')\n",
        "star['Star color'] = star['Star color'].str.replace('White-Yellow','5')\n",
        "star['Star color'] = star['Star color'].str.replace('Pale yellow orange','5')\n",
        "star['Star color'] = star['Star color'].str.replace('Blue','6')\n",
        "star['Star color'] = star['Star color'].str.replace('Blue','6')\n",
        "star['Star color'] = star['Star color'].str.replace('Orange','7')\n",
        "star['Star color'] = star['Star color'].str.replace('yellowish','8')\n",
        "star['Star color'] = star['Star color'].str.replace('Yelowish','8')\n",
        "star['Star color'] = star['Star color'].str.replace('Yelowish','8')\n",
        "star['Star color'] = star['Star color'].str.replace('Yellowish','8')\n",
        "star['Star color'] = star['Star color'].str.replace('Yellowish 3','8')\n",
        "star['Star color'] = star['Star color'].str.replace('yellow-3','8')\n",
        "star['Star color'] = star['Star color'].str.replace('3-Yellow','8')\n",
        "star['Star color'] = star['Star color'].str.replace('7-1','8')\n",
        "star['Star color'] = star['Star color'].str.replace('8 3','9')\n",
        "star['Star color'] = star['Star color'].str.replace('Orange-Red','9')"
      ],
      "metadata": {
        "id": "WxjKEXjqn7JG"
      },
      "execution_count": null,
      "outputs": []
    },
    {
      "cell_type": "code",
      "source": [
        "star"
      ],
      "metadata": {
        "colab": {
          "base_uri": "https://localhost:8080/",
          "height": 423
        },
        "id": "LZiYwCv1q7sf",
        "outputId": "600f4040-7d20-4163-b523-1e8163ad1d42"
      },
      "execution_count": null,
      "outputs": [
        {
          "output_type": "execute_result",
          "data": {
            "text/plain": [
              "     Temperature (K)  Luminosity(L/Lo)  Radius(R/Ro)  Absolute magnitude(Mv)  \\\n",
              "0               3068          0.002400        0.1700                   16.12   \n",
              "1               3042          0.000500        0.1542                   16.60   \n",
              "2               2600          0.000300        0.1020                   18.70   \n",
              "3               2800          0.000200        0.1600                   16.65   \n",
              "4               1939          0.000138        0.1030                   20.06   \n",
              "..               ...               ...           ...                     ...   \n",
              "235            38940     374830.000000     1356.0000                   -9.93   \n",
              "236            30839     834042.000000     1194.0000                  -10.63   \n",
              "237             8829     537493.000000     1423.0000                  -10.73   \n",
              "238             9235     404940.000000     1112.0000                  -11.23   \n",
              "239            37882     294903.000000     1783.0000                   -7.80   \n",
              "\n",
              "     Star type Star color Spectral Class  \n",
              "0            0          1              M  \n",
              "1            0          1              M  \n",
              "2            0          1              M  \n",
              "3            0          1              M  \n",
              "4            0          1              M  \n",
              "..         ...        ...            ...  \n",
              "235          5          6              O  \n",
              "236          5          6              O  \n",
              "237          5          3              A  \n",
              "238          5          3              A  \n",
              "239          5          6              O  \n",
              "\n",
              "[240 rows x 7 columns]"
            ],
            "text/html": [
              "\n",
              "  <div id=\"df-7805ffb3-8696-47b8-806b-f3e7ffd6ccee\">\n",
              "    <div class=\"colab-df-container\">\n",
              "      <div>\n",
              "<style scoped>\n",
              "    .dataframe tbody tr th:only-of-type {\n",
              "        vertical-align: middle;\n",
              "    }\n",
              "\n",
              "    .dataframe tbody tr th {\n",
              "        vertical-align: top;\n",
              "    }\n",
              "\n",
              "    .dataframe thead th {\n",
              "        text-align: right;\n",
              "    }\n",
              "</style>\n",
              "<table border=\"1\" class=\"dataframe\">\n",
              "  <thead>\n",
              "    <tr style=\"text-align: right;\">\n",
              "      <th></th>\n",
              "      <th>Temperature (K)</th>\n",
              "      <th>Luminosity(L/Lo)</th>\n",
              "      <th>Radius(R/Ro)</th>\n",
              "      <th>Absolute magnitude(Mv)</th>\n",
              "      <th>Star type</th>\n",
              "      <th>Star color</th>\n",
              "      <th>Spectral Class</th>\n",
              "    </tr>\n",
              "  </thead>\n",
              "  <tbody>\n",
              "    <tr>\n",
              "      <th>0</th>\n",
              "      <td>3068</td>\n",
              "      <td>0.002400</td>\n",
              "      <td>0.1700</td>\n",
              "      <td>16.12</td>\n",
              "      <td>0</td>\n",
              "      <td>1</td>\n",
              "      <td>M</td>\n",
              "    </tr>\n",
              "    <tr>\n",
              "      <th>1</th>\n",
              "      <td>3042</td>\n",
              "      <td>0.000500</td>\n",
              "      <td>0.1542</td>\n",
              "      <td>16.60</td>\n",
              "      <td>0</td>\n",
              "      <td>1</td>\n",
              "      <td>M</td>\n",
              "    </tr>\n",
              "    <tr>\n",
              "      <th>2</th>\n",
              "      <td>2600</td>\n",
              "      <td>0.000300</td>\n",
              "      <td>0.1020</td>\n",
              "      <td>18.70</td>\n",
              "      <td>0</td>\n",
              "      <td>1</td>\n",
              "      <td>M</td>\n",
              "    </tr>\n",
              "    <tr>\n",
              "      <th>3</th>\n",
              "      <td>2800</td>\n",
              "      <td>0.000200</td>\n",
              "      <td>0.1600</td>\n",
              "      <td>16.65</td>\n",
              "      <td>0</td>\n",
              "      <td>1</td>\n",
              "      <td>M</td>\n",
              "    </tr>\n",
              "    <tr>\n",
              "      <th>4</th>\n",
              "      <td>1939</td>\n",
              "      <td>0.000138</td>\n",
              "      <td>0.1030</td>\n",
              "      <td>20.06</td>\n",
              "      <td>0</td>\n",
              "      <td>1</td>\n",
              "      <td>M</td>\n",
              "    </tr>\n",
              "    <tr>\n",
              "      <th>...</th>\n",
              "      <td>...</td>\n",
              "      <td>...</td>\n",
              "      <td>...</td>\n",
              "      <td>...</td>\n",
              "      <td>...</td>\n",
              "      <td>...</td>\n",
              "      <td>...</td>\n",
              "    </tr>\n",
              "    <tr>\n",
              "      <th>235</th>\n",
              "      <td>38940</td>\n",
              "      <td>374830.000000</td>\n",
              "      <td>1356.0000</td>\n",
              "      <td>-9.93</td>\n",
              "      <td>5</td>\n",
              "      <td>6</td>\n",
              "      <td>O</td>\n",
              "    </tr>\n",
              "    <tr>\n",
              "      <th>236</th>\n",
              "      <td>30839</td>\n",
              "      <td>834042.000000</td>\n",
              "      <td>1194.0000</td>\n",
              "      <td>-10.63</td>\n",
              "      <td>5</td>\n",
              "      <td>6</td>\n",
              "      <td>O</td>\n",
              "    </tr>\n",
              "    <tr>\n",
              "      <th>237</th>\n",
              "      <td>8829</td>\n",
              "      <td>537493.000000</td>\n",
              "      <td>1423.0000</td>\n",
              "      <td>-10.73</td>\n",
              "      <td>5</td>\n",
              "      <td>3</td>\n",
              "      <td>A</td>\n",
              "    </tr>\n",
              "    <tr>\n",
              "      <th>238</th>\n",
              "      <td>9235</td>\n",
              "      <td>404940.000000</td>\n",
              "      <td>1112.0000</td>\n",
              "      <td>-11.23</td>\n",
              "      <td>5</td>\n",
              "      <td>3</td>\n",
              "      <td>A</td>\n",
              "    </tr>\n",
              "    <tr>\n",
              "      <th>239</th>\n",
              "      <td>37882</td>\n",
              "      <td>294903.000000</td>\n",
              "      <td>1783.0000</td>\n",
              "      <td>-7.80</td>\n",
              "      <td>5</td>\n",
              "      <td>6</td>\n",
              "      <td>O</td>\n",
              "    </tr>\n",
              "  </tbody>\n",
              "</table>\n",
              "<p>240 rows × 7 columns</p>\n",
              "</div>\n",
              "      <button class=\"colab-df-convert\" onclick=\"convertToInteractive('df-7805ffb3-8696-47b8-806b-f3e7ffd6ccee')\"\n",
              "              title=\"Convert this dataframe to an interactive table.\"\n",
              "              style=\"display:none;\">\n",
              "        \n",
              "  <svg xmlns=\"http://www.w3.org/2000/svg\" height=\"24px\"viewBox=\"0 0 24 24\"\n",
              "       width=\"24px\">\n",
              "    <path d=\"M0 0h24v24H0V0z\" fill=\"none\"/>\n",
              "    <path d=\"M18.56 5.44l.94 2.06.94-2.06 2.06-.94-2.06-.94-.94-2.06-.94 2.06-2.06.94zm-11 1L8.5 8.5l.94-2.06 2.06-.94-2.06-.94L8.5 2.5l-.94 2.06-2.06.94zm10 10l.94 2.06.94-2.06 2.06-.94-2.06-.94-.94-2.06-.94 2.06-2.06.94z\"/><path d=\"M17.41 7.96l-1.37-1.37c-.4-.4-.92-.59-1.43-.59-.52 0-1.04.2-1.43.59L10.3 9.45l-7.72 7.72c-.78.78-.78 2.05 0 2.83L4 21.41c.39.39.9.59 1.41.59.51 0 1.02-.2 1.41-.59l7.78-7.78 2.81-2.81c.8-.78.8-2.07 0-2.86zM5.41 20L4 18.59l7.72-7.72 1.47 1.35L5.41 20z\"/>\n",
              "  </svg>\n",
              "      </button>\n",
              "      \n",
              "  <style>\n",
              "    .colab-df-container {\n",
              "      display:flex;\n",
              "      flex-wrap:wrap;\n",
              "      gap: 12px;\n",
              "    }\n",
              "\n",
              "    .colab-df-convert {\n",
              "      background-color: #E8F0FE;\n",
              "      border: none;\n",
              "      border-radius: 50%;\n",
              "      cursor: pointer;\n",
              "      display: none;\n",
              "      fill: #1967D2;\n",
              "      height: 32px;\n",
              "      padding: 0 0 0 0;\n",
              "      width: 32px;\n",
              "    }\n",
              "\n",
              "    .colab-df-convert:hover {\n",
              "      background-color: #E2EBFA;\n",
              "      box-shadow: 0px 1px 2px rgba(60, 64, 67, 0.3), 0px 1px 3px 1px rgba(60, 64, 67, 0.15);\n",
              "      fill: #174EA6;\n",
              "    }\n",
              "\n",
              "    [theme=dark] .colab-df-convert {\n",
              "      background-color: #3B4455;\n",
              "      fill: #D2E3FC;\n",
              "    }\n",
              "\n",
              "    [theme=dark] .colab-df-convert:hover {\n",
              "      background-color: #434B5C;\n",
              "      box-shadow: 0px 1px 3px 1px rgba(0, 0, 0, 0.15);\n",
              "      filter: drop-shadow(0px 1px 2px rgba(0, 0, 0, 0.3));\n",
              "      fill: #FFFFFF;\n",
              "    }\n",
              "  </style>\n",
              "\n",
              "      <script>\n",
              "        const buttonEl =\n",
              "          document.querySelector('#df-7805ffb3-8696-47b8-806b-f3e7ffd6ccee button.colab-df-convert');\n",
              "        buttonEl.style.display =\n",
              "          google.colab.kernel.accessAllowed ? 'block' : 'none';\n",
              "\n",
              "        async function convertToInteractive(key) {\n",
              "          const element = document.querySelector('#df-7805ffb3-8696-47b8-806b-f3e7ffd6ccee');\n",
              "          const dataTable =\n",
              "            await google.colab.kernel.invokeFunction('convertToInteractive',\n",
              "                                                     [key], {});\n",
              "          if (!dataTable) return;\n",
              "\n",
              "          const docLinkHtml = 'Like what you see? Visit the ' +\n",
              "            '<a target=\"_blank\" href=https://colab.research.google.com/notebooks/data_table.ipynb>data table notebook</a>'\n",
              "            + ' to learn more about interactive tables.';\n",
              "          element.innerHTML = '';\n",
              "          dataTable['output_type'] = 'display_data';\n",
              "          await google.colab.output.renderOutput(dataTable, element);\n",
              "          const docLink = document.createElement('div');\n",
              "          docLink.innerHTML = docLinkHtml;\n",
              "          element.appendChild(docLink);\n",
              "        }\n",
              "      </script>\n",
              "    </div>\n",
              "  </div>\n",
              "  "
            ]
          },
          "metadata": {},
          "execution_count": 157
        }
      ]
    },
    {
      "cell_type": "code",
      "source": [
        "star['Star color'] = star['Star color'].astype(int) # CONVERSION TO INT"
      ],
      "metadata": {
        "id": "1nAibLljqsow"
      },
      "execution_count": null,
      "outputs": []
    },
    {
      "cell_type": "code",
      "source": [
        "star.info()"
      ],
      "metadata": {
        "colab": {
          "base_uri": "https://localhost:8080/"
        },
        "id": "an3l0Pz3si83",
        "outputId": "f078b7f0-b8df-42db-d54f-dddf7ddf9345"
      },
      "execution_count": null,
      "outputs": [
        {
          "output_type": "stream",
          "name": "stdout",
          "text": [
            "<class 'pandas.core.frame.DataFrame'>\n",
            "RangeIndex: 240 entries, 0 to 239\n",
            "Data columns (total 7 columns):\n",
            " #   Column                  Non-Null Count  Dtype  \n",
            "---  ------                  --------------  -----  \n",
            " 0   Temperature (K)         240 non-null    int64  \n",
            " 1   Luminosity(L/Lo)        240 non-null    float64\n",
            " 2   Radius(R/Ro)            240 non-null    float64\n",
            " 3   Absolute magnitude(Mv)  240 non-null    float64\n",
            " 4   Star type               240 non-null    int64  \n",
            " 5   Star color              240 non-null    int64  \n",
            " 6   Spectral Class          240 non-null    object \n",
            "dtypes: float64(3), int64(3), object(1)\n",
            "memory usage: 13.2+ KB\n"
          ]
        }
      ]
    },
    {
      "cell_type": "code",
      "source": [
        "# CLEANING SPECTRAL CLASS COLUMN \n",
        "star['Spectral Class'] = star['Spectral Class'].str.replace('O','1')\n",
        "star['Spectral Class'] = star['Spectral Class'].str.replace('B','2')\n",
        "star['Spectral Class'] = star['Spectral Class'].str.replace('A','3')\n",
        "star['Spectral Class'] = star['Spectral Class'].str.replace('F','4')\n",
        "star['Spectral Class'] = star['Spectral Class'].str.replace('G','5')\n",
        "star['Spectral Class'] = star['Spectral Class'].str.replace('K','6')\n",
        "star['Spectral Class'] = star['Spectral Class'].str.replace('M','7')"
      ],
      "metadata": {
        "id": "KiYru1pgt7mf"
      },
      "execution_count": null,
      "outputs": []
    },
    {
      "cell_type": "code",
      "source": [
        "star['Spectral Class'] = star['Spectral Class'].astype(int) #CONVERSION TO INT"
      ],
      "metadata": {
        "id": "fmnS-rG6u7aI"
      },
      "execution_count": null,
      "outputs": []
    },
    {
      "cell_type": "code",
      "source": [
        "star "
      ],
      "metadata": {
        "colab": {
          "base_uri": "https://localhost:8080/",
          "height": 423
        },
        "id": "ebDIV2e8vBnT",
        "outputId": "97b40b15-3ca7-4849-d8d8-0d50e1d2e606"
      },
      "execution_count": null,
      "outputs": [
        {
          "output_type": "execute_result",
          "data": {
            "text/plain": [
              "     Temperature (K)  Luminosity(L/Lo)  Radius(R/Ro)  Absolute magnitude(Mv)  \\\n",
              "0               3068          0.002400        0.1700                   16.12   \n",
              "1               3042          0.000500        0.1542                   16.60   \n",
              "2               2600          0.000300        0.1020                   18.70   \n",
              "3               2800          0.000200        0.1600                   16.65   \n",
              "4               1939          0.000138        0.1030                   20.06   \n",
              "..               ...               ...           ...                     ...   \n",
              "235            38940     374830.000000     1356.0000                   -9.93   \n",
              "236            30839     834042.000000     1194.0000                  -10.63   \n",
              "237             8829     537493.000000     1423.0000                  -10.73   \n",
              "238             9235     404940.000000     1112.0000                  -11.23   \n",
              "239            37882     294903.000000     1783.0000                   -7.80   \n",
              "\n",
              "     Star type  Star color  Spectral Class  \n",
              "0            0           1               7  \n",
              "1            0           1               7  \n",
              "2            0           1               7  \n",
              "3            0           1               7  \n",
              "4            0           1               7  \n",
              "..         ...         ...             ...  \n",
              "235          5           6               1  \n",
              "236          5           6               1  \n",
              "237          5           3               3  \n",
              "238          5           3               3  \n",
              "239          5           6               1  \n",
              "\n",
              "[240 rows x 7 columns]"
            ],
            "text/html": [
              "\n",
              "  <div id=\"df-3129aa2b-e719-4ce2-9750-45b50103c78f\">\n",
              "    <div class=\"colab-df-container\">\n",
              "      <div>\n",
              "<style scoped>\n",
              "    .dataframe tbody tr th:only-of-type {\n",
              "        vertical-align: middle;\n",
              "    }\n",
              "\n",
              "    .dataframe tbody tr th {\n",
              "        vertical-align: top;\n",
              "    }\n",
              "\n",
              "    .dataframe thead th {\n",
              "        text-align: right;\n",
              "    }\n",
              "</style>\n",
              "<table border=\"1\" class=\"dataframe\">\n",
              "  <thead>\n",
              "    <tr style=\"text-align: right;\">\n",
              "      <th></th>\n",
              "      <th>Temperature (K)</th>\n",
              "      <th>Luminosity(L/Lo)</th>\n",
              "      <th>Radius(R/Ro)</th>\n",
              "      <th>Absolute magnitude(Mv)</th>\n",
              "      <th>Star type</th>\n",
              "      <th>Star color</th>\n",
              "      <th>Spectral Class</th>\n",
              "    </tr>\n",
              "  </thead>\n",
              "  <tbody>\n",
              "    <tr>\n",
              "      <th>0</th>\n",
              "      <td>3068</td>\n",
              "      <td>0.002400</td>\n",
              "      <td>0.1700</td>\n",
              "      <td>16.12</td>\n",
              "      <td>0</td>\n",
              "      <td>1</td>\n",
              "      <td>7</td>\n",
              "    </tr>\n",
              "    <tr>\n",
              "      <th>1</th>\n",
              "      <td>3042</td>\n",
              "      <td>0.000500</td>\n",
              "      <td>0.1542</td>\n",
              "      <td>16.60</td>\n",
              "      <td>0</td>\n",
              "      <td>1</td>\n",
              "      <td>7</td>\n",
              "    </tr>\n",
              "    <tr>\n",
              "      <th>2</th>\n",
              "      <td>2600</td>\n",
              "      <td>0.000300</td>\n",
              "      <td>0.1020</td>\n",
              "      <td>18.70</td>\n",
              "      <td>0</td>\n",
              "      <td>1</td>\n",
              "      <td>7</td>\n",
              "    </tr>\n",
              "    <tr>\n",
              "      <th>3</th>\n",
              "      <td>2800</td>\n",
              "      <td>0.000200</td>\n",
              "      <td>0.1600</td>\n",
              "      <td>16.65</td>\n",
              "      <td>0</td>\n",
              "      <td>1</td>\n",
              "      <td>7</td>\n",
              "    </tr>\n",
              "    <tr>\n",
              "      <th>4</th>\n",
              "      <td>1939</td>\n",
              "      <td>0.000138</td>\n",
              "      <td>0.1030</td>\n",
              "      <td>20.06</td>\n",
              "      <td>0</td>\n",
              "      <td>1</td>\n",
              "      <td>7</td>\n",
              "    </tr>\n",
              "    <tr>\n",
              "      <th>...</th>\n",
              "      <td>...</td>\n",
              "      <td>...</td>\n",
              "      <td>...</td>\n",
              "      <td>...</td>\n",
              "      <td>...</td>\n",
              "      <td>...</td>\n",
              "      <td>...</td>\n",
              "    </tr>\n",
              "    <tr>\n",
              "      <th>235</th>\n",
              "      <td>38940</td>\n",
              "      <td>374830.000000</td>\n",
              "      <td>1356.0000</td>\n",
              "      <td>-9.93</td>\n",
              "      <td>5</td>\n",
              "      <td>6</td>\n",
              "      <td>1</td>\n",
              "    </tr>\n",
              "    <tr>\n",
              "      <th>236</th>\n",
              "      <td>30839</td>\n",
              "      <td>834042.000000</td>\n",
              "      <td>1194.0000</td>\n",
              "      <td>-10.63</td>\n",
              "      <td>5</td>\n",
              "      <td>6</td>\n",
              "      <td>1</td>\n",
              "    </tr>\n",
              "    <tr>\n",
              "      <th>237</th>\n",
              "      <td>8829</td>\n",
              "      <td>537493.000000</td>\n",
              "      <td>1423.0000</td>\n",
              "      <td>-10.73</td>\n",
              "      <td>5</td>\n",
              "      <td>3</td>\n",
              "      <td>3</td>\n",
              "    </tr>\n",
              "    <tr>\n",
              "      <th>238</th>\n",
              "      <td>9235</td>\n",
              "      <td>404940.000000</td>\n",
              "      <td>1112.0000</td>\n",
              "      <td>-11.23</td>\n",
              "      <td>5</td>\n",
              "      <td>3</td>\n",
              "      <td>3</td>\n",
              "    </tr>\n",
              "    <tr>\n",
              "      <th>239</th>\n",
              "      <td>37882</td>\n",
              "      <td>294903.000000</td>\n",
              "      <td>1783.0000</td>\n",
              "      <td>-7.80</td>\n",
              "      <td>5</td>\n",
              "      <td>6</td>\n",
              "      <td>1</td>\n",
              "    </tr>\n",
              "  </tbody>\n",
              "</table>\n",
              "<p>240 rows × 7 columns</p>\n",
              "</div>\n",
              "      <button class=\"colab-df-convert\" onclick=\"convertToInteractive('df-3129aa2b-e719-4ce2-9750-45b50103c78f')\"\n",
              "              title=\"Convert this dataframe to an interactive table.\"\n",
              "              style=\"display:none;\">\n",
              "        \n",
              "  <svg xmlns=\"http://www.w3.org/2000/svg\" height=\"24px\"viewBox=\"0 0 24 24\"\n",
              "       width=\"24px\">\n",
              "    <path d=\"M0 0h24v24H0V0z\" fill=\"none\"/>\n",
              "    <path d=\"M18.56 5.44l.94 2.06.94-2.06 2.06-.94-2.06-.94-.94-2.06-.94 2.06-2.06.94zm-11 1L8.5 8.5l.94-2.06 2.06-.94-2.06-.94L8.5 2.5l-.94 2.06-2.06.94zm10 10l.94 2.06.94-2.06 2.06-.94-2.06-.94-.94-2.06-.94 2.06-2.06.94z\"/><path d=\"M17.41 7.96l-1.37-1.37c-.4-.4-.92-.59-1.43-.59-.52 0-1.04.2-1.43.59L10.3 9.45l-7.72 7.72c-.78.78-.78 2.05 0 2.83L4 21.41c.39.39.9.59 1.41.59.51 0 1.02-.2 1.41-.59l7.78-7.78 2.81-2.81c.8-.78.8-2.07 0-2.86zM5.41 20L4 18.59l7.72-7.72 1.47 1.35L5.41 20z\"/>\n",
              "  </svg>\n",
              "      </button>\n",
              "      \n",
              "  <style>\n",
              "    .colab-df-container {\n",
              "      display:flex;\n",
              "      flex-wrap:wrap;\n",
              "      gap: 12px;\n",
              "    }\n",
              "\n",
              "    .colab-df-convert {\n",
              "      background-color: #E8F0FE;\n",
              "      border: none;\n",
              "      border-radius: 50%;\n",
              "      cursor: pointer;\n",
              "      display: none;\n",
              "      fill: #1967D2;\n",
              "      height: 32px;\n",
              "      padding: 0 0 0 0;\n",
              "      width: 32px;\n",
              "    }\n",
              "\n",
              "    .colab-df-convert:hover {\n",
              "      background-color: #E2EBFA;\n",
              "      box-shadow: 0px 1px 2px rgba(60, 64, 67, 0.3), 0px 1px 3px 1px rgba(60, 64, 67, 0.15);\n",
              "      fill: #174EA6;\n",
              "    }\n",
              "\n",
              "    [theme=dark] .colab-df-convert {\n",
              "      background-color: #3B4455;\n",
              "      fill: #D2E3FC;\n",
              "    }\n",
              "\n",
              "    [theme=dark] .colab-df-convert:hover {\n",
              "      background-color: #434B5C;\n",
              "      box-shadow: 0px 1px 3px 1px rgba(0, 0, 0, 0.15);\n",
              "      filter: drop-shadow(0px 1px 2px rgba(0, 0, 0, 0.3));\n",
              "      fill: #FFFFFF;\n",
              "    }\n",
              "  </style>\n",
              "\n",
              "      <script>\n",
              "        const buttonEl =\n",
              "          document.querySelector('#df-3129aa2b-e719-4ce2-9750-45b50103c78f button.colab-df-convert');\n",
              "        buttonEl.style.display =\n",
              "          google.colab.kernel.accessAllowed ? 'block' : 'none';\n",
              "\n",
              "        async function convertToInteractive(key) {\n",
              "          const element = document.querySelector('#df-3129aa2b-e719-4ce2-9750-45b50103c78f');\n",
              "          const dataTable =\n",
              "            await google.colab.kernel.invokeFunction('convertToInteractive',\n",
              "                                                     [key], {});\n",
              "          if (!dataTable) return;\n",
              "\n",
              "          const docLinkHtml = 'Like what you see? Visit the ' +\n",
              "            '<a target=\"_blank\" href=https://colab.research.google.com/notebooks/data_table.ipynb>data table notebook</a>'\n",
              "            + ' to learn more about interactive tables.';\n",
              "          element.innerHTML = '';\n",
              "          dataTable['output_type'] = 'display_data';\n",
              "          await google.colab.output.renderOutput(dataTable, element);\n",
              "          const docLink = document.createElement('div');\n",
              "          docLink.innerHTML = docLinkHtml;\n",
              "          element.appendChild(docLink);\n",
              "        }\n",
              "      </script>\n",
              "    </div>\n",
              "  </div>\n",
              "  "
            ]
          },
          "metadata": {},
          "execution_count": 162
        }
      ]
    },
    {
      "cell_type": "code",
      "source": [
        "star.info() # ALL STRING DATA TYPE HAVE BEEN CONVERTED"
      ],
      "metadata": {
        "colab": {
          "base_uri": "https://localhost:8080/"
        },
        "id": "ZtyeTzChvFDj",
        "outputId": "85e7b404-bfb2-4d05-e478-f0ad95a251ee"
      },
      "execution_count": null,
      "outputs": [
        {
          "output_type": "stream",
          "name": "stdout",
          "text": [
            "<class 'pandas.core.frame.DataFrame'>\n",
            "RangeIndex: 240 entries, 0 to 239\n",
            "Data columns (total 7 columns):\n",
            " #   Column                  Non-Null Count  Dtype  \n",
            "---  ------                  --------------  -----  \n",
            " 0   Temperature (K)         240 non-null    int64  \n",
            " 1   Luminosity(L/Lo)        240 non-null    float64\n",
            " 2   Radius(R/Ro)            240 non-null    float64\n",
            " 3   Absolute magnitude(Mv)  240 non-null    float64\n",
            " 4   Star type               240 non-null    int64  \n",
            " 5   Star color              240 non-null    int64  \n",
            " 6   Spectral Class          240 non-null    int64  \n",
            "dtypes: float64(3), int64(4)\n",
            "memory usage: 13.2 KB\n"
          ]
        }
      ]
    },
    {
      "cell_type": "code",
      "source": [
        "# EDA\n",
        "\n",
        "# NUMBER OF DIFFERENT STAR TYPES IN DATA SET\n",
        "\n",
        "# Brown Dwarf -> Star Type = 0\n",
        "\n",
        "# Red Dwarf -> Star Type = 1\n",
        "\n",
        "# White Dwarf-> Star Type = 2\n",
        "\n",
        "# Main Sequence -> Star Type = 3\n",
        "\n",
        "# Supergiant -> Star Type = 4\n",
        "\n",
        "# Hypergiant -> Star Type = 5\n",
        "\n",
        "star['Star type'].value_counts()"
      ],
      "metadata": {
        "colab": {
          "base_uri": "https://localhost:8080/"
        },
        "id": "HF9vqIwPbghV",
        "outputId": "b0c61feb-93e2-4134-df2d-a6f64c277450"
      },
      "execution_count": null,
      "outputs": [
        {
          "output_type": "execute_result",
          "data": {
            "text/plain": [
              "0    40\n",
              "1    40\n",
              "2    40\n",
              "3    40\n",
              "4    40\n",
              "5    40\n",
              "Name: Star type, dtype: int64"
            ]
          },
          "metadata": {},
          "execution_count": 164
        }
      ]
    },
    {
      "cell_type": "code",
      "source": [
        "# NUMBER OF EACH SPECTRAL TYPE\n",
        "star['Spectral Class'].value_counts()"
      ],
      "metadata": {
        "colab": {
          "base_uri": "https://localhost:8080/"
        },
        "id": "0jw_2zmJdE0F",
        "outputId": "e725b1eb-8aad-4c15-b72c-815f827c2c57"
      },
      "execution_count": null,
      "outputs": [
        {
          "output_type": "execute_result",
          "data": {
            "text/plain": [
              "7    111\n",
              "2     46\n",
              "1     40\n",
              "3     19\n",
              "4     17\n",
              "6      6\n",
              "5      1\n",
              "Name: Spectral Class, dtype: int64"
            ]
          },
          "metadata": {},
          "execution_count": 165
        }
      ]
    },
    {
      "cell_type": "code",
      "source": [
        "#3 DATA VISUALISATION \n",
        "# STAR TYPE VS LUMINOSITY(L/Lo)\n",
        "import matplotlib.pyplot as plt\n",
        "\n",
        "plt.scatter(star['Luminosity(L/Lo)'],star['Star type'])\n",
        "\n",
        "plt.title('Luminosity VS Star type')\n",
        "plt.xlabel('Luminosity')\n",
        "plt.ylabel('Star Type')"
      ],
      "metadata": {
        "colab": {
          "base_uri": "https://localhost:8080/",
          "height": 312
        },
        "id": "CchVneWwdP3C",
        "outputId": "183be56f-b6b3-46d1-c585-468cda9783c3"
      },
      "execution_count": null,
      "outputs": [
        {
          "output_type": "execute_result",
          "data": {
            "text/plain": [
              "Text(0, 0.5, 'Star Type')"
            ]
          },
          "metadata": {},
          "execution_count": 166
        },
        {
          "output_type": "display_data",
          "data": {
            "text/plain": [
              "<Figure size 432x288 with 1 Axes>"
            ],
            "image/png": "[encoded data removed]"
          },
          "metadata": {
            "needs_background": "light"
          }
        }
      ]
    },
    {
      "cell_type": "code",
      "source": [
        "#SPECTRAL CLASS VS COLOR \n",
        "plt.scatter(star['Temperature (K)'],star['Spectral Class'])\n",
        "\n",
        "plt.title('Temperature VS Spectral Class')\n",
        "plt.xlabel('Kelvin')\n",
        "plt.ylabel('Spectral Class')"
      ],
      "metadata": {
        "colab": {
          "base_uri": "https://localhost:8080/",
          "height": 312
        },
        "id": "Xg8F9i2KZuvO",
        "outputId": "d4ef2bca-1777-4786-e6dd-0982b63ba53a"
      },
      "execution_count": null,
      "outputs": [
        {
          "output_type": "execute_result",
          "data": {
            "text/plain": [
              "Text(0, 0.5, 'Spectral Class')"
            ]
          },
          "metadata": {},
          "execution_count": 167
        },
        {
          "output_type": "display_data",
          "data": {
            "text/plain": [
              "<Figure size 432x288 with 1 Axes>"
            ],
            "image/png": "[encoded data removed]"
          },
          "metadata": {
            "needs_background": "light"
          }
        }
      ]
    },
    {
      "cell_type": "code",
      "source": [
        "# 4. DIVIDE INTO INPUT  AND OUTPUT\n",
        "# INPUT (X) - TEMPRERATURE , LUMINOSITY , RADIUS ,ABSOLUTE MAGNITUDE,STAR COLOR\n",
        "# OUTPUT (Y) - SPECTRAL CLASS , STAR TYPE \n",
        "\n",
        "x = star.loc[:,['Temperature (K)','Luminosity(L/Lo)','Radius(R/Ro)','Absolute magnitude(Mv)','Star color']].values\n",
        "x"
      ],
      "metadata": {
        "colab": {
          "base_uri": "https://localhost:8080/"
        },
        "id": "LwUJurfQcq0q",
        "outputId": "76e5ae94-84ef-4698-976c-1bceda214181"
      },
      "execution_count": null,
      "outputs": [
        {
          "output_type": "execute_result",
          "data": {
            "text/plain": [
              "array([[ 3.06800e+03,  2.40000e-03,  1.70000e-01,  1.61200e+01,\n",
              "         1.00000e+00],\n",
              "       [ 3.04200e+03,  5.00000e-04,  1.54200e-01,  1.66000e+01,\n",
              "         1.00000e+00],\n",
              "       [ 2.60000e+03,  3.00000e-04,  1.02000e-01,  1.87000e+01,\n",
              "         1.00000e+00],\n",
              "       ...,\n",
              "       [ 8.82900e+03,  5.37493e+05,  1.42300e+03, -1.07300e+01,\n",
              "         3.00000e+00],\n",
              "       [ 9.23500e+03,  4.04940e+05,  1.11200e+03, -1.12300e+01,\n",
              "         3.00000e+00],\n",
              "       [ 3.78820e+04,  2.94903e+05,  1.78300e+03, -7.80000e+00,\n",
              "         6.00000e+00]])"
            ]
          },
          "metadata": {},
          "execution_count": 168
        }
      ]
    },
    {
      "cell_type": "code",
      "source": [
        "y = star.loc[:,['Star type','Spectral Class']].values\n",
        "y"
      ],
      "metadata": {
        "colab": {
          "base_uri": "https://localhost:8080/"
        },
        "id": "7fm6WWiohDdj",
        "outputId": "29d5c2fa-f97d-493c-d13d-53d3c9df57e4"
      },
      "execution_count": null,
      "outputs": [
        {
          "output_type": "execute_result",
          "data": {
            "text/plain": [
              "array([[0, 7],\n",
              "       [0, 7],\n",
              "       [0, 7],\n",
              "       [0, 7],\n",
              "       [0, 7],\n",
              "       [0, 7],\n",
              "       [0, 7],\n",
              "       [0, 7],\n",
              "       [0, 7],\n",
              "       [0, 7],\n",
              "       [1, 7],\n",
              "       [1, 7],\n",
              "       [1, 7],\n",
              "       [1, 7],\n",
              "       [1, 7],\n",
              "       [1, 7],\n",
              "       [1, 7],\n",
              "       [1, 7],\n",
              "       [1, 7],\n",
              "       [1, 7],\n",
              "       [2, 2],\n",
              "       [2, 3],\n",
              "       [2, 4],\n",
              "       [2, 3],\n",
              "       [2, 2],\n",
              "       [2, 4],\n",
              "       [2, 3],\n",
              "       [2, 4],\n",
              "       [2, 4],\n",
              "       [2, 4],\n",
              "       [3, 1],\n",
              "       [3, 2],\n",
              "       [3, 2],\n",
              "       [3, 2],\n",
              "       [3, 4],\n",
              "       [3, 3],\n",
              "       [3, 4],\n",
              "       [3, 4],\n",
              "       [3, 4],\n",
              "       [3, 4],\n",
              "       [4, 7],\n",
              "       [4, 7],\n",
              "       [4, 7],\n",
              "       [4, 7],\n",
              "       [4, 7],\n",
              "       [4, 7],\n",
              "       [4, 7],\n",
              "       [4, 7],\n",
              "       [4, 7],\n",
              "       [4, 2],\n",
              "       [5, 7],\n",
              "       [5, 7],\n",
              "       [5, 7],\n",
              "       [5, 7],\n",
              "       [5, 7],\n",
              "       [5, 7],\n",
              "       [5, 7],\n",
              "       [5, 7],\n",
              "       [5, 7],\n",
              "       [5, 7],\n",
              "       [0, 7],\n",
              "       [0, 7],\n",
              "       [0, 7],\n",
              "       [0, 7],\n",
              "       [0, 7],\n",
              "       [0, 7],\n",
              "       [0, 7],\n",
              "       [0, 7],\n",
              "       [0, 7],\n",
              "       [0, 7],\n",
              "       [1, 7],\n",
              "       [1, 7],\n",
              "       [1, 7],\n",
              "       [1, 7],\n",
              "       [1, 7],\n",
              "       [1, 7],\n",
              "       [1, 7],\n",
              "       [1, 7],\n",
              "       [1, 7],\n",
              "       [1, 7],\n",
              "       [2, 4],\n",
              "       [2, 4],\n",
              "       [2, 3],\n",
              "       [2, 2],\n",
              "       [2, 2],\n",
              "       [2, 3],\n",
              "       [2, 2],\n",
              "       [2, 2],\n",
              "       [2, 4],\n",
              "       [2, 2],\n",
              "       [3, 4],\n",
              "       [3, 6],\n",
              "       [3, 6],\n",
              "       [3, 6],\n",
              "       [3, 3],\n",
              "       [3, 3],\n",
              "       [3, 6],\n",
              "       [3, 4],\n",
              "       [3, 3],\n",
              "       [3, 1],\n",
              "       [4, 2],\n",
              "       [4, 1],\n",
              "       [4, 1],\n",
              "       [4, 1],\n",
              "       [4, 1],\n",
              "       [4, 1],\n",
              "       [4, 1],\n",
              "       [4, 1],\n",
              "       [4, 1],\n",
              "       [4, 1],\n",
              "       [5, 7],\n",
              "       [5, 7],\n",
              "       [5, 7],\n",
              "       [5, 7],\n",
              "       [5, 7],\n",
              "       [5, 7],\n",
              "       [5, 6],\n",
              "       [5, 7],\n",
              "       [5, 5],\n",
              "       [5, 7],\n",
              "       [0, 7],\n",
              "       [0, 7],\n",
              "       [0, 7],\n",
              "       [0, 7],\n",
              "       [0, 7],\n",
              "       [0, 7],\n",
              "       [0, 7],\n",
              "       [0, 7],\n",
              "       [0, 7],\n",
              "       [0, 7],\n",
              "       [1, 7],\n",
              "       [1, 7],\n",
              "       [1, 7],\n",
              "       [1, 7],\n",
              "       [1, 7],\n",
              "       [1, 7],\n",
              "       [1, 7],\n",
              "       [1, 7],\n",
              "       [1, 7],\n",
              "       [1, 7],\n",
              "       [2, 2],\n",
              "       [2, 2],\n",
              "       [2, 2],\n",
              "       [2, 2],\n",
              "       [2, 2],\n",
              "       [2, 3],\n",
              "       [2, 2],\n",
              "       [2, 4],\n",
              "       [2, 3],\n",
              "       [2, 2],\n",
              "       [3, 2],\n",
              "       [3, 3],\n",
              "       [3, 3],\n",
              "       [3, 2],\n",
              "       [3, 2],\n",
              "       [3, 2],\n",
              "       [3, 2],\n",
              "       [3, 2],\n",
              "       [3, 3],\n",
              "       [3, 1],\n",
              "       [4, 1],\n",
              "       [4, 1],\n",
              "       [4, 1],\n",
              "       [4, 1],\n",
              "       [4, 1],\n",
              "       [4, 1],\n",
              "       [4, 1],\n",
              "       [4, 1],\n",
              "       [4, 1],\n",
              "       [4, 1],\n",
              "       [5, 7],\n",
              "       [5, 7],\n",
              "       [5, 6],\n",
              "       [5, 2],\n",
              "       [5, 7],\n",
              "       [5, 7],\n",
              "       [5, 1],\n",
              "       [5, 2],\n",
              "       [5, 2],\n",
              "       [5, 2],\n",
              "       [0, 7],\n",
              "       [0, 7],\n",
              "       [0, 7],\n",
              "       [0, 7],\n",
              "       [0, 7],\n",
              "       [0, 7],\n",
              "       [0, 7],\n",
              "       [0, 7],\n",
              "       [0, 7],\n",
              "       [0, 7],\n",
              "       [1, 7],\n",
              "       [1, 7],\n",
              "       [1, 7],\n",
              "       [1, 7],\n",
              "       [1, 7],\n",
              "       [1, 7],\n",
              "       [1, 7],\n",
              "       [1, 7],\n",
              "       [1, 7],\n",
              "       [1, 7],\n",
              "       [2, 2],\n",
              "       [2, 2],\n",
              "       [2, 2],\n",
              "       [2, 2],\n",
              "       [2, 2],\n",
              "       [2, 2],\n",
              "       [2, 2],\n",
              "       [2, 2],\n",
              "       [2, 2],\n",
              "       [2, 2],\n",
              "       [3, 2],\n",
              "       [3, 3],\n",
              "       [3, 3],\n",
              "       [3, 2],\n",
              "       [3, 1],\n",
              "       [3, 1],\n",
              "       [3, 3],\n",
              "       [3, 2],\n",
              "       [3, 2],\n",
              "       [3, 4],\n",
              "       [4, 1],\n",
              "       [4, 1],\n",
              "       [4, 1],\n",
              "       [4, 1],\n",
              "       [4, 1],\n",
              "       [4, 1],\n",
              "       [4, 1],\n",
              "       [4, 1],\n",
              "       [4, 1],\n",
              "       [4, 1],\n",
              "       [5, 2],\n",
              "       [5, 1],\n",
              "       [5, 1],\n",
              "       [5, 2],\n",
              "       [5, 2],\n",
              "       [5, 1],\n",
              "       [5, 1],\n",
              "       [5, 3],\n",
              "       [5, 3],\n",
              "       [5, 1]])"
            ]
          },
          "metadata": {},
          "execution_count": 169
        }
      ]
    },
    {
      "cell_type": "code",
      "source": [
        "#5.Train and Test variables - train_test_split\n",
        "from sklearn.model_selection import train_test_split\n",
        "x_train,x_test,y_train,y_test = train_test_split(x,y,random_state = 0)"
      ],
      "metadata": {
        "id": "nUTw6OrKhdue"
      },
      "execution_count": null,
      "outputs": []
    },
    {
      "cell_type": "code",
      "source": [
        "#6.NORMALIZATION or SCALING\n",
        "from sklearn.preprocessing import MinMaxScaler\n",
        "scaler = MinMaxScaler()\n",
        "x_train = scaler.fit_transform(x_train)\n",
        "x_test = scaler.fit_transform(x_test)"
      ],
      "metadata": {
        "id": "y_2UvUyfh-8q"
      },
      "execution_count": null,
      "outputs": []
    },
    {
      "cell_type": "code",
      "source": [
        "#7.apply a linear regression\n",
        "from sklearn.linear_model import LinearRegression\n",
        "model = LinearRegression()"
      ],
      "metadata": {
        "id": "-f194XrBlHM2"
      },
      "execution_count": null,
      "outputs": []
    },
    {
      "cell_type": "code",
      "source": [
        "#8 fitting the model\n",
        "model.fit(x_train,y_train)"
      ],
      "metadata": {
        "colab": {
          "base_uri": "https://localhost:8080/"
        },
        "id": "eR0xmqdNlcaS",
        "outputId": "dfd8556d-0e25-42a3-e786-2f8dc263004a"
      },
      "execution_count": null,
      "outputs": [
        {
          "output_type": "execute_result",
          "data": {
            "text/plain": [
              "LinearRegression()"
            ]
          },
          "metadata": {},
          "execution_count": 174
        }
      ]
    },
    {
      "cell_type": "code",
      "source": [
        "#9.PREDICT THE OUTPUT\n",
        "y_pred = model.predict(x_test)\n",
        "y_pred #PREDICTED OUTPUT VALUES"
      ],
      "metadata": {
        "colab": {
          "base_uri": "https://localhost:8080/"
        },
        "id": "8VVIqIKnwEps",
        "outputId": "77045647-d10d-44f4-fa19-22b58b2b8bba"
      },
      "execution_count": null,
      "outputs": [
        {
          "output_type": "execute_result",
          "data": {
            "text/plain": [
              "array([[ 3.93812483, -0.72746844],\n",
              "       [ 1.4168151 ,  6.31080569],\n",
              "       [ 3.51477754,  2.96479854],\n",
              "       [ 1.30874324,  6.35996202],\n",
              "       [ 4.26260971,  0.56830692],\n",
              "       [ 3.71759024,  2.73621601],\n",
              "       [ 3.36013474,  1.79154212],\n",
              "       [ 4.1575258 ,  0.67001787],\n",
              "       [ 3.21352033,  3.72071619],\n",
              "       [ 1.09211234,  6.44524717],\n",
              "       [ 0.9516381 ,  6.59582419],\n",
              "       [ 1.82599987,  2.87121488],\n",
              "       [ 1.14722758,  3.99966167],\n",
              "       [ 3.35807201,  2.72827371],\n",
              "       [ 4.03431498,  3.61703999],\n",
              "       [ 0.83873059,  6.53751935],\n",
              "       [ 0.43768203,  6.70065986],\n",
              "       [ 5.0467361 ,  6.44156773],\n",
              "       [ 4.28728173,  2.36036849],\n",
              "       [ 0.39146245,  6.84246723],\n",
              "       [ 3.47056313, -1.69532336],\n",
              "       [ 4.58007355,  3.07455546],\n",
              "       [ 1.91574369,  2.08152468],\n",
              "       [ 0.02543715,  6.8913903 ],\n",
              "       [ 0.4562575 ,  6.78877033],\n",
              "       [ 1.12727825,  5.24950203],\n",
              "       [ 0.76246372,  6.57837708],\n",
              "       [ 3.57425231,  2.73531838],\n",
              "       [ 0.98502954,  6.54544933],\n",
              "       [ 4.21924261,  1.29023478],\n",
              "       [ 5.20939263,  6.69020198],\n",
              "       [ 3.4392253 ,  5.64813427],\n",
              "       [ 1.34976276,  4.57736486],\n",
              "       [ 0.08030999,  6.86978674],\n",
              "       [ 1.33654687,  4.7503335 ],\n",
              "       [ 5.06518372,  6.37883857],\n",
              "       [ 0.8668248 ,  5.38739438],\n",
              "       [ 4.66022421,  7.04588292],\n",
              "       [ 0.18662121,  6.87494998],\n",
              "       [ 3.06705137,  3.4890637 ],\n",
              "       [ 3.39361177,  1.94544713],\n",
              "       [ 3.48376471,  5.54053119],\n",
              "       [ 4.05237878,  2.47504181],\n",
              "       [ 0.9395477 ,  6.55347918],\n",
              "       [ 3.9944289 ,  0.60751029],\n",
              "       [ 1.00327196,  6.50675106],\n",
              "       [ 4.30944551,  2.54763176],\n",
              "       [ 0.39885764,  6.84743146],\n",
              "       [ 5.17539492,  6.63970777],\n",
              "       [ 5.47142381,  0.30916663],\n",
              "       [ 0.45909715,  6.78845842],\n",
              "       [ 3.37653772,  3.29844771],\n",
              "       [ 3.9706646 ,  2.8881843 ],\n",
              "       [ 0.82439639,  6.54255126],\n",
              "       [ 3.27753418,  3.2499806 ],\n",
              "       [ 3.25028453,  3.76995042],\n",
              "       [ 5.39436911, -0.28524062],\n",
              "       [ 3.12857227,  3.91387553],\n",
              "       [ 5.26867138,  6.82575854],\n",
              "       [ 4.07962596,  1.65707688]])"
            ]
          },
          "metadata": {},
          "execution_count": 175
        }
      ]
    },
    {
      "cell_type": "code",
      "source": [
        "y_test # ACTUAL OUTPUT VALUES"
      ],
      "metadata": {
        "colab": {
          "base_uri": "https://localhost:8080/"
        },
        "id": "6SqDCLPNwLCo",
        "outputId": "c923a949-e353-4560-a64f-0c1cb4b63e52"
      },
      "execution_count": null,
      "outputs": [
        {
          "output_type": "execute_result",
          "data": {
            "text/plain": [
              "array([[4, 1],\n",
              "       [1, 7],\n",
              "       [3, 4],\n",
              "       [1, 7],\n",
              "       [4, 1],\n",
              "       [4, 1],\n",
              "       [3, 2],\n",
              "       [4, 1],\n",
              "       [3, 3],\n",
              "       [1, 7],\n",
              "       [1, 7],\n",
              "       [2, 2],\n",
              "       [2, 2],\n",
              "       [3, 2],\n",
              "       [5, 2],\n",
              "       [1, 7],\n",
              "       [0, 7],\n",
              "       [5, 7],\n",
              "       [4, 1],\n",
              "       [0, 7],\n",
              "       [4, 1],\n",
              "       [5, 2],\n",
              "       [2, 2],\n",
              "       [0, 7],\n",
              "       [0, 7],\n",
              "       [2, 4],\n",
              "       [1, 7],\n",
              "       [3, 4],\n",
              "       [1, 7],\n",
              "       [4, 1],\n",
              "       [5, 7],\n",
              "       [4, 7],\n",
              "       [2, 2],\n",
              "       [0, 7],\n",
              "       [2, 2],\n",
              "       [5, 5],\n",
              "       [2, 3],\n",
              "       [5, 7],\n",
              "       [0, 7],\n",
              "       [3, 6],\n",
              "       [3, 2],\n",
              "       [4, 7],\n",
              "       [3, 4],\n",
              "       [1, 7],\n",
              "       [4, 1],\n",
              "       [1, 7],\n",
              "       [4, 1],\n",
              "       [0, 7],\n",
              "       [5, 7],\n",
              "       [5, 1],\n",
              "       [0, 7],\n",
              "       [3, 2],\n",
              "       [5, 2],\n",
              "       [1, 7],\n",
              "       [3, 6],\n",
              "       [3, 2],\n",
              "       [5, 1],\n",
              "       [3, 3],\n",
              "       [5, 6],\n",
              "       [4, 1]])"
            ]
          },
          "metadata": {},
          "execution_count": 176
        }
      ]
    },
    {
      "cell_type": "code",
      "source": [
        "#10.Accuracy\n",
        "from sklearn.metrics import r2_score\n",
        "r2_score(y_test,y_pred)"
      ],
      "metadata": {
        "colab": {
          "base_uri": "https://localhost:8080/"
        },
        "id": "ir7x-S7GwPOw",
        "outputId": "a33a218f-cc43-4b38-a8c9-9355de7e43b4"
      },
      "execution_count": null,
      "outputs": [
        {
          "output_type": "execute_result",
          "data": {
            "text/plain": [
              "0.8541063706208685"
            ]
          },
          "metadata": {},
          "execution_count": 177
        }
      ]
    },
    {
      "cell_type": "code",
      "source": [
        "#INDIVIDUAL PREDICTIONS \n",
        "a = scaler.transform([[ 3.06800e+03,  2.40000e-03,  1.70000e-01,  1.61200e+01,\n",
        "         1.00000e+00]])\n",
        "model.predict(a)\n",
        "# STAR TYPE = 0.57 ~ 1 ~ RED DWARF ; SPECTRAL CLASS = 6.7 ~ 7 ~ M"
      ],
      "metadata": {
        "colab": {
          "base_uri": "https://localhost:8080/"
        },
        "id": "bqouy8NEw8Rx",
        "outputId": "3e0c887d-ed5f-4ac4-a330-354a1cd4ea9b"
      },
      "execution_count": null,
      "outputs": [
        {
          "output_type": "execute_result",
          "data": {
            "text/plain": [
              "array([[0.57573433, 6.70880178]])"
            ]
          },
          "metadata": {},
          "execution_count": 186
        }
      ]
    },
    {
      "cell_type": "code",
      "source": [
        "b = scaler.transform([[2.5899e+3, 2.444e-3,2.79e-1,1.61e+1,3]])\n",
        "model.predict(b)\n",
        "# STAR TYPE = 0.8 ~ 1 ~ RED DWARF ; SPECTRAL CLASS = 6.05 ~ 6 ~ K"
      ],
      "metadata": {
        "colab": {
          "base_uri": "https://localhost:8080/"
        },
        "id": "vG9Qk0kuzCfp",
        "outputId": "a8d470ba-2c8b-46c5-e66a-a42b8bbecaee"
      },
      "execution_count": null,
      "outputs": [
        {
          "output_type": "execute_result",
          "data": {
            "text/plain": [
              "array([[0.89792527, 6.05336886]])"
            ]
          },
          "metadata": {},
          "execution_count": 190
        }
      ]
    },
    {
      "cell_type": "code",
      "source": [
        "c = scaler.transform([[3.5899e+3, 3.444e-3,3.79e-1,2.61e+1,4]])\n",
        "model.predict(c)\n",
        "# STAR TYPE = -0.3 ~ 0 ~ BROWN DWARF ; SPECTRAL CLASS = 6.06 ~ 6 ~ K"
      ],
      "metadata": {
        "colab": {
          "base_uri": "https://localhost:8080/"
        },
        "id": "dHtp968JIdmf",
        "outputId": "051af21b-2a1f-4135-d632-2e5cf7b5d67d"
      },
      "execution_count": 191,
      "outputs": [
        {
          "output_type": "execute_result",
          "data": {
            "text/plain": [
              "array([[-0.35949511,  6.06445928]])"
            ]
          },
          "metadata": {},
          "execution_count": 191
        }
      ]
    }
  ]
}